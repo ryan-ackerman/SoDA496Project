{
 "cells": [
  {
   "cell_type": "markdown",
   "id": "f4108488",
   "metadata": {},
   "source": [
    "# Setup"
   ]
  },
  {
   "cell_type": "code",
   "execution_count": null,
   "id": "25a12100",
   "metadata": {},
   "outputs": [],
   "source": [
    "import numpy as np\n",
    "import pandas as pd\n",
    "import torch\n",
    "import os\n",
    "import re\n",
    "from sklearn.metrics.pairwise import cosine_similarity\n",
    "from transformers import BertTokenizer, BertModel\n",
    "\n",
    "# Initialize BERT tokenizer and model\n",
    "tokenizer = BertTokenizer.from_pretrained('bert-base-uncased')\n",
    "model = BertModel.from_pretrained(\"bert-base-uncased\")\n",
    "\n",
    "# Tokenize words and get embeddings\n",
    "def get_word_embeddings(word_list):\n",
    "    tokens = tokenizer(word_list, padding=True, truncation=True, return_tensors=\"pt\")\n",
    "    with torch.no_grad():\n",
    "        outputs = model(**tokens)\n",
    "        embeddings = outputs.last_hidden_state.mean(dim=1)  # Average pooling over tokens\n",
    "    return embeddings\n",
    "\n",
    "# Word Sets and Embeddings\n",
    "AF_Names = [\"Reginald\", \"Kameron\", \"Kendrick\", \"Javon\", \"Tyrell\", \"Jamar\", \"Camron\", \"Tyree\", \"Jamari\", \"Reggie\", \"Jada\", \n",
    "            \"Latoya\", \"Jayla\", \"Tamika\", \"Latoyna\", \"Journey\", \"Tameka\", \"Journee\", \"Lawanda\", \"Janiya\"]\n",
    "AF_Embeddings = get_word_embeddings(AF_Names)\n",
    "\n",
    "EU_Names = [\"James\", \"John\", \"Robert\", \"Michael\", \"William\", \"David\", \"Joseph\", \"Richard\", \"Charles\", \"Thomas\", \"Mary\", \n",
    "            \"Elizabeth\", \"Patricia\", \"Jennifer\", \"Linda\", \"Barbara\", \"Margaret\", \"Susan\", \"Sarah\", \"Jessica\"]\n",
    "EU_Embeddings = get_word_embeddings(EU_Names)\n",
    "\n",
    "LX_Names = [\"Paul\", \"Vincent\", \"Victor\", \"Adrian\", \"Marcus\", \"Leo\", \"Miles\", \"Roman\", \"Sergio\", \"Felix\", \"Patricia\", \"Laura\", \n",
    "            \"Amanda\", \"Victoria\", \"Julia\", \"Gloria\", \"Diana\", \"Clara\", \"Paula\", \"Norma\"]\n",
    "LX_Embeddings = get_word_embeddings(LX_Names)\n",
    "\n",
    "CH_Names = [\"Lian\", \"Shan\", \"Lew\", \"Long\", \"Quan\", \"Jun\", \"Tou\", \"Jin\", \"Cai\", \"Chan\", \"Lue\", \"China\", \"Lu\", \"Maylee\", \n",
    "            \"Tennie\", \"Maylin\", \"Chynna\", \"Jia\", \"Mei\", \"Tylee\"]\n",
    "CH_Embeddings = get_word_embeddings(CH_Names)\n",
    "\n",
    "Male_Names = [\"James\", \"John\", \"Robert\", \"Michael\", \"William\", \"David\", \"Joseph\", \"Richard\", \"Charles\", \"Thomas\", \n",
    "              \"Christopher\", \"Daniel\", \"Matthew\",\"George\", \"Anthony\", \"Donald\", \"Paul\", \"Mark\", \"Andrew\", \"Edward\"]\n",
    "Male_Embeddings = get_word_embeddings(Male_Names)\n",
    "\n",
    "Female_Names = [\"Mary\", \"Elizabeth\", \"Patricia\", \"Jennifer\", \"Linda\", \"Barbara\", \"Margaret\", \"Susan\", \"Dorothy\", \"Sarah\", \n",
    "                \"Jessica\", \"Helen\", \"Nancy\", \"Betty\", \"Karen\", \"Lisa\", \"Anna\", \"Sandra\", \"Emily\", \"Ashley\"]\n",
    "Female_Embeddings = get_word_embeddings(Female_Names)\n",
    "\n",
    "Pleasant_Words = [\"happy\", \"agreeable\", \"polite\", \"civil\", \"charming\", \"gracious\", \"gentle\", \"approachable\", \"love\", \"cool\"]\n",
    "Pleasant_Embeddings = get_word_embeddings(Pleasant_Words)\n",
    "\n",
    "Unpleasant_Words = [\"rude\", \"lazy\", \"disagreeable\", \"lousy\", \"sad\", \"hate\", \"violent\", \"bitter\", \"harsh\", \"angry\"]\n",
    "Unpleasant_Embeddings = get_word_embeddings(Unpleasant_Words)\n",
    "\n",
    "STEM_Careers = [\"Software Developer\", \"Nurse Practitioner\", \"Health Services Manager\", \"Physicians Assistant\", \n",
    "                \"Security Analyst\", \"IT Manager\", \"Web Developer\", \"Dentist\", \"Orthodontist\", \"Computer Systems Analyst\"]\n",
    "STEM_Embeddings = get_word_embeddings(STEM_Careers)\n",
    "\n",
    "Non_STEM_Careers = [\"Artist\", \"Marketing Manager\", \"Social Worker\", \"Attorney\", \"Journalist\", \"Musician\", \"Teacher\", \n",
    "                    \"Media Manager\", \"Graphic Designer\", \"Judge\"]\n",
    "Non_STEM_Embeddings = get_word_embeddings(Non_STEM_Careers)"
   ]
  },
  {
   "cell_type": "markdown",
   "id": "b2f0792c",
   "metadata": {},
   "source": [
    "# TEST 1: Racial Biases"
   ]
  },
  {
   "cell_type": "code",
   "execution_count": null,
   "id": "50bd0cff",
   "metadata": {},
   "outputs": [],
   "source": [
    "# African American Names\n",
    "# Pleasant Words\n",
    "similarities_AFvP = cosine_similarity(AF_Embeddings, Pleasant_Embeddings)\n",
    "# Unpleasant Words\n",
    "similarities_AFvU = cosine_similarity(AF_Embeddings, Unpleasant_Embeddings)\n",
    "\n",
    "similarities_AFvP = pd.DataFrame(similarities_AFvP, index = AF_Names, columns = Pleasant_Words)\n",
    "similarities_AFvU = pd.DataFrame(similarities_AFvU, index = AF_Names, columns = Unpleasant_Words)\n",
    "\n",
    "print(\"Cosine Similarity Matrix: African American Names vs Pleasant Words\")\n",
    "print(similarities_AFvP)\n",
    "print(\"Cosine Similarity Matrix: African American Names vs Unpleasant Words\")\n",
    "print(similarities_AFvU)"
   ]
  },
  {
   "cell_type": "code",
   "execution_count": null,
   "id": "4c7b5b5c",
   "metadata": {},
   "outputs": [],
   "source": [
    "# European American Names\n",
    "# Pleasant Words\n",
    "similarities_EUvP = cosine_similarity(EU_Embeddings, Pleasant_Embeddings)\n",
    "# Unpleasant Words\n",
    "similarities_EUvU = cosine_similarity(EU_Embeddings, Unpleasant_Embeddings)\n",
    "\n",
    "similarities_EUvP = pd.DataFrame(similarities_EUvP, index = EU_Names, columns = Pleasant_Words)\n",
    "similarities_EUvU = pd.DataFrame(similarities_EUvU, index = EU_Names, columns = Unpleasant_Words)\n",
    "\n",
    "print(\"Cosine Similarity Matrix: European American Names vs Pleasant Words\")\n",
    "print(similarities_EUvP)\n",
    "print(\"Cosine Similarity Matrix: European American Names vs Unpleasant Words\")\n",
    "print(similarities_EUvU)"
   ]
  },
  {
   "cell_type": "code",
   "execution_count": null,
   "id": "1c98f3a9",
   "metadata": {},
   "outputs": [],
   "source": [
    "# Latin American Names\n",
    "# Pleasant Words\n",
    "similarities_LXvP = cosine_similarity(LX_Embeddings, Pleasant_Embeddings)\n",
    "# Unpleasant Words\n",
    "similarities_LXvU = cosine_similarity(LX_Embeddings, Unpleasant_Embeddings)\n",
    "\n",
    "similarities_LXvP = pd.DataFrame(similarities_LXvP, index = LX_Names, columns = Pleasant_Words)\n",
    "similarities_LXvU = pd.DataFrame(similarities_LXvU, index = LX_Names, columns = Unpleasant_Words)\n",
    "\n",
    "print(\"Cosine Similarity Matrix: Latin American Names vs Pleasant Words\")\n",
    "print(similarities_LXvP)\n",
    "print(\"Cosine Similarity Matrix: Latin American Names vs Unpleasant Words\")\n",
    "print(similarities_LXvU)"
   ]
  },
  {
   "cell_type": "code",
   "execution_count": null,
   "id": "c7b0bab6",
   "metadata": {},
   "outputs": [],
   "source": [
    "# Chinese American Names\n",
    "# Pleasant Words\n",
    "similarities_CHvP = cosine_similarity(CH_Embeddings, Pleasant_Embeddings)\n",
    "# Unpleasant Words\n",
    "similarities_CHvU = cosine_similarity(CH_Embeddings, Unpleasant_Embeddings)\n",
    "\n",
    "similarities_CHvP = pd.DataFrame(similarities_CHvP, index = CH_Names, columns = Pleasant_Words)\n",
    "similarities_CHvU = pd.DataFrame(similarities_CHvU, index = CH_Names, columns = Unpleasant_Words)\n",
    "\n",
    "print(\"Cosine Similarity Matrix: Chinese American Names vs Pleasant Words\")\n",
    "print(similarities_CHvP)\n",
    "print(\"Cosine Similarity Matrix: Chinese American Names vs Unpleasant Words\")\n",
    "print(similarities_CHvU)"
   ]
  },
  {
   "cell_type": "markdown",
   "id": "6967ba9b",
   "metadata": {},
   "source": [
    "# TEST 2: Gender Biases for Favorability"
   ]
  },
  {
   "cell_type": "code",
   "execution_count": null,
   "id": "984fa641",
   "metadata": {},
   "outputs": [],
   "source": [
    "# Male Names\n",
    "# Pleasant Words\n",
    "similarities_MvP = cosine_similarity(Male_Embeddings, Pleasant_Embeddings)\n",
    "# Unpleasant Words\n",
    "similarities_MvU = cosine_similarity(Male_Embeddings, Unpleasant_Embeddings)\n",
    "\n",
    "similarities_MvP = pd.DataFrame(similarities_MvP, index = Male_Names, columns = Pleasant_Words)\n",
    "similarities_MvU = pd.DataFrame(similarities_MvU, index = Male_Names, columns = Unpleasant_Words)\n",
    "\n",
    "print(\"Cosine Similarity Matrix: Male Names vs Pleasant Words\")\n",
    "print(similarities_MvP)\n",
    "print(\"Cosine Similarity Matrix: Male Names vs Unpleasant Words\")\n",
    "print(similarities_MvU)"
   ]
  },
  {
   "cell_type": "code",
   "execution_count": null,
   "id": "5fcfe221",
   "metadata": {},
   "outputs": [],
   "source": [
    "# Female Names\n",
    "# Pleasant Words\n",
    "similarities_FvP = cosine_similarity(Female_Embeddings, Pleasant_Embeddings)\n",
    "# Unpleasant Words\n",
    "similarities_FvU = cosine_similarity(Female_Embeddings, Unpleasant_Embeddings)\n",
    "\n",
    "similarities_FvP = pd.DataFrame(similarities_FvP, index = Female_Names, columns = Pleasant_Words)\n",
    "similarities_FvU = pd.DataFrame(similarities_FvU, index = Female_Names, columns = Unpleasant_Words)\n",
    "\n",
    "print(\"Cosine Similarity Matrix: Female Names vs Pleasant Words\")\n",
    "print(similarities_FvP)\n",
    "print(\"Cosine Similarity Matrix: Female Names vs Unpleasant Words\")\n",
    "print(similarities_FvU)"
   ]
  },
  {
   "cell_type": "markdown",
   "id": "9e4844ca",
   "metadata": {},
   "source": [
    "# TEST 3: Gender Biases in Careers"
   ]
  },
  {
   "cell_type": "code",
   "execution_count": null,
   "id": "e4dc4744",
   "metadata": {},
   "outputs": [],
   "source": [
    "# Male Names\n",
    "# STEM Careers\n",
    "similarities_MvS = cosine_similarity(Male_Embeddings, STEM_Embeddings)\n",
    "# Non-STEM Careers\n",
    "similarities_MvN = cosine_similarity(Male_Embeddings, Non_STEM_Embeddings)\n",
    "\n",
    "similarities_MvS = pd.DataFrame(similarities_MvS, index = Male_Names, columns = STEM_Careers)\n",
    "similarities_MvN = pd.DataFrame(similarities_MvN, index = Male_Names, columns = Non_STEM_Careers)\n",
    "\n",
    "print(\"Cosine Similarity Matrix: Male Names vs STEM Careers\")\n",
    "print(similarities_MvS)\n",
    "print(\"Cosine Similarity Matrix: Male Names vs Non-STEM Careers\")\n",
    "print(similarities_MvN)"
   ]
  },
  {
   "cell_type": "code",
   "execution_count": null,
   "id": "99b00b65",
   "metadata": {},
   "outputs": [],
   "source": [
    "# Female Names\n",
    "# STEM Careers\n",
    "similarities_FvS = cosine_similarity(Female_Embeddings, STEM_Embeddings)\n",
    "# Non-STEM Careers\n",
    "similarities_FvN = cosine_similarity(Female_Embeddings, Non_STEM_Embeddings)\n",
    "\n",
    "similarities_FvS = pd.DataFrame(similarities_FvS, index = Female_Names, columns = STEM_Careers)\n",
    "similarities_FvN = pd.DataFrame(similarities_FvN, index = Female_Names, columns = Non_STEM_Careers)\n",
    "\n",
    "print(\"Cosine Similarity Matrix: Female Names vs STEM Careers\")\n",
    "print(similarities_FvS)\n",
    "print(\"Cosine Similarity Matrix: Female Names vs Non-STEM Careers\")\n",
    "print(similarities_FvN)"
   ]
  },
  {
   "cell_type": "code",
   "execution_count": null,
   "id": "5e80805e",
   "metadata": {},
   "outputs": [],
   "source": [
    "#Mean cosine similarity of each test\n",
    "\n",
    "dataframes_dict = {\n",
    "    'AFvP': similarities_AFvP,\n",
    "    'AFvU': similarities_AFvU,\n",
    "    'EUvP': similarities_EUvP,\n",
    "    'EUvU': similarities_EUvU,\n",
    "    'LXvP': similarities_LXvP,\n",
    "    'LXvU': similarities_LXvU,\n",
    "    'CHvP': similarities_CHvP,\n",
    "    'CHvU': similarities_CHvU,\n",
    "    'MvP': similarities_MvP,\n",
    "    'MvU': similarities_MvU,\n",
    "    'FvP': similarities_FvP,\n",
    "    'FvU': similarities_FvU,\n",
    "    'MvS': similarities_MvS,\n",
    "    'MvN': similarities_MvN,\n",
    "    'FvS': similarities_FvS,\n",
    "    'FvN': similarities_FvN\n",
    "}\n",
    "\n",
    "# Create a dictionary to store the means\n",
    "mean_dict = {}\n",
    "\n",
    "# Calculate the mean for each DataFrame and store it in the mean_dict\n",
    "for df_name, df in dataframes_dict.items():\n",
    "    mean_value = df.values.mean()\n",
    "    mean_dict[df_name] = mean_value\n",
    "\n",
    "# Create a new DataFrame from the mean_dict\n",
    "mean_df = pd.DataFrame(list(mean_dict.items()), columns=['DataFrame', 'avgCS_BERT_base_cased'])\n",
    "\n",
    "# Print the new DataFrame\n",
    "print(mean_df)\n",
    "\n",
    "#Save to .csv\n",
    "mean_df.to_csv('BERT_base_cased_meanCosSim.csv', index = False)"
   ]
  },
  {
   "cell_type": "code",
   "execution_count": null,
   "id": "d49ca832",
   "metadata": {},
   "outputs": [],
   "source": [
    "for key, df in dataframes_dict.items():\n",
    "    # Construct the file path using the key\n",
    "    file_path = f\"{key}.csv\"\n",
    "    \n",
    "    # Write the DataFrame to the CSV file\n",
    "    df.to_csv(file_path, index=True)\n",
    "    print(f\"{key}.csv was created\")"
   ]
  },
  {
   "cell_type": "code",
   "execution_count": null,
   "id": "30614a14",
   "metadata": {},
   "outputs": [],
   "source": []
  }
 ],
 "metadata": {
  "kernelspec": {
   "display_name": "Python 3 (ipykernel)",
   "language": "python",
   "name": "python3"
  },
  "language_info": {
   "codemirror_mode": {
    "name": "ipython",
    "version": 3
   },
   "file_extension": ".py",
   "mimetype": "text/x-python",
   "name": "python",
   "nbconvert_exporter": "python",
   "pygments_lexer": "ipython3",
   "version": "3.8.16"
  }
 },
 "nbformat": 4,
 "nbformat_minor": 5
}
